{
 "cells": [
  {
   "cell_type": "markdown",
   "metadata": {},
   "source": [
    "1 - Dada a lista:"
   ]
  },
  {
   "cell_type": "code",
   "execution_count": 3,
   "metadata": {},
   "outputs": [],
   "source": [
    "lista = [1,2,3,'4',5,6.3,7.4 + 2j,\"123\",[1,2,3], 93, \"98\"]"
   ]
  },
  {
   "cell_type": "markdown",
   "metadata": {},
   "source": [
    "Crie um código para imprimir o antecessor e o sucessor de cada elemento de uma lista:\n",
    "+ Caso este elemento seja inteiro, imprimir o valor;  \n",
    "+ Caso seja uma string, imprimir o inteiro correspondente;  \n",
    "+ Caso seja um real, imprima a parte inteira;\n",
    "+ Caso seja um imaginário, imprima a parte inteira e real;\n",
    "\n",
    "+ Caso seja uma sequência, aplique as regras acima para cada elemento da sequência.  "
   ]
  },
  {
   "cell_type": "code",
   "execution_count": 4,
   "metadata": {
    "scrolled": false
   },
   "outputs": [
    {
     "name": "stdout",
     "output_type": "stream",
     "text": [
      "\n",
      "Número referencial: 1\n",
      "Sucessor:\n",
      "2\n",
      "\n",
      "Número referencial: 2\n",
      "Antecessor:\n",
      "1\n",
      "Sucessor:\n",
      "3\n",
      "\n",
      "Número referencial: 3\n",
      "Antecessor:\n",
      "2\n",
      "Sucessor:\n",
      "4\n",
      "\n",
      "Número referencial: 4\n",
      "Antecessor:\n",
      "3\n",
      "Sucessor:\n",
      "5\n",
      "\n",
      "Número referencial: 5\n",
      "Antecessor:\n",
      "4\n",
      "Sucessor:\n",
      "6\n",
      "\n",
      "Número referencial: 6.3\n",
      "Antecessor:\n",
      "5\n",
      "Sucessor:\n",
      "7\n",
      "0.40000000000000036\n",
      "\n",
      "Número referencial: (7.4+2j)\n",
      "Antecessor:\n",
      "6\n",
      "Sucessor:\n",
      "123\n",
      "\n",
      "Número referencial: 123\n",
      "Antecessor:\n",
      "7\n",
      "0.40000000000000036\n",
      "Sucessor:\n",
      "\n",
      "Número referencial: 1\n",
      "Sucessor:\n",
      "2\n",
      "\n",
      "Número referencial: 2\n",
      "Antecessor:\n",
      "1\n",
      "Sucessor:\n",
      "3\n",
      "\n",
      "Número referencial: 3\n",
      "Antecessor:\n",
      "2\n",
      "\n",
      "Número referencial: [1, 2, 3]\n",
      "Antecessor:\n",
      "123\n",
      "Sucessor:\n",
      "93\n",
      "\n",
      "Número referencial: 93\n",
      "Antecessor:\n",
      "\n",
      "Número referencial: 1\n",
      "Sucessor:\n",
      "2\n",
      "\n",
      "Número referencial: 2\n",
      "Antecessor:\n",
      "1\n",
      "Sucessor:\n",
      "3\n",
      "\n",
      "Número referencial: 3\n",
      "Antecessor:\n",
      "2\n",
      "Sucessor:\n",
      "98\n",
      "\n",
      "Número referencial: 98\n",
      "Antecessor:\n",
      "93\n"
     ]
    }
   ],
   "source": [
    "def coder(num):\n",
    "    if type(num) == int:\n",
    "        print(num)\n",
    "    \n",
    "    elif type(num) == str or type(num) == float:\n",
    "        print(int(num))\n",
    "        \n",
    "    elif type(num) == float:\n",
    "        print(num.real)\n",
    "        \n",
    "    elif type(num) == complex:\n",
    "        a = num.real\n",
    "        b = int(a)\n",
    "        print(b)\n",
    "        print(a-b)\n",
    "        \n",
    "    elif type(num) == list:\n",
    "        listador(num)\n",
    "        \n",
    "    \n",
    "def listador(item):\n",
    "\n",
    "    for i in item:\n",
    "        tam=len(item)\n",
    "        \n",
    "        print(\"\\nNúmero referencial: \" + str(i))\n",
    "        \n",
    "        if item.index(i) != 0:\n",
    "            print(\"Antecessor:\")\n",
    "            ant = lista[item.index(i)-1]\n",
    "            coder(ant)\n",
    "\n",
    "        if item.index(i) != tam-1:\n",
    "            print(\"Sucessor:\")\n",
    "            suc = lista[item.index(i)+1]\n",
    "            coder(suc)\n",
    "            \n",
    "        i=\n",
    "  \n",
    "       \n",
    "listador(lista)"
   ]
  },
  {
   "cell_type": "markdown",
   "metadata": {},
   "source": [
    "2 - Os fatores primos de 13195 são 5, 7, 13 e 29. Qual o maior fator primo de 600851475143?  \n",
    "https://projecteuler.net/problem=3  "
   ]
  },
  {
   "cell_type": "code",
   "execution_count": null,
   "metadata": {
    "collapsed": true
   },
   "outputs": [],
   "source": [
    "def primo(num):\n",
    "    lista = []\n",
    "    \n",
    "    if n % k == 0"
   ]
  },
  {
   "cell_type": "code",
   "execution_count": 6,
   "metadata": {},
   "outputs": [
    {
     "data": {
      "text/plain": [
       "False"
      ]
     },
     "execution_count": 6,
     "metadata": {},
     "output_type": "execute_result"
    }
   ],
   "source": [
    "12 % 7 == 0"
   ]
  },
  {
   "cell_type": "markdown",
   "metadata": {},
   "source": [
    "3- Crie um programa que imprima os números de 1 a 100, mas nos múltiplos de 3 imprima “Fizz” em vez do  número e nos múltiplos de 5 imprima “Buzz”. Para os números que são múltiplos de tanto 3 como 5, imprima “FizzBuzz”.  "
   ]
  },
  {
   "cell_type": "code",
   "execution_count": 11,
   "metadata": {},
   "outputs": [
    {
     "name": "stdout",
     "output_type": "stream",
     "text": [
      "1\n",
      "2\n",
      "Fizz\n",
      "4\n",
      "Buzz\n",
      "Fizz\n",
      "7\n",
      "8\n",
      "Fizz\n",
      "Buzz\n",
      "11\n",
      "Fizz\n",
      "13\n",
      "14\n",
      "FizzBuzz\n",
      "16\n",
      "17\n",
      "Fizz\n",
      "19\n",
      "Buzz\n",
      "Fizz\n",
      "22\n",
      "23\n",
      "Fizz\n",
      "Buzz\n",
      "26\n",
      "Fizz\n",
      "28\n",
      "29\n",
      "FizzBuzz\n",
      "31\n",
      "32\n",
      "Fizz\n",
      "34\n",
      "Buzz\n",
      "Fizz\n",
      "37\n",
      "38\n",
      "Fizz\n",
      "Buzz\n",
      "41\n",
      "Fizz\n",
      "43\n",
      "44\n",
      "FizzBuzz\n",
      "46\n",
      "47\n",
      "Fizz\n",
      "49\n",
      "Buzz\n",
      "Fizz\n",
      "52\n",
      "53\n",
      "Fizz\n",
      "Buzz\n",
      "56\n",
      "Fizz\n",
      "58\n",
      "59\n",
      "FizzBuzz\n",
      "61\n",
      "62\n",
      "Fizz\n",
      "64\n",
      "Buzz\n",
      "Fizz\n",
      "67\n",
      "68\n",
      "Fizz\n",
      "Buzz\n",
      "71\n",
      "Fizz\n",
      "73\n",
      "74\n",
      "FizzBuzz\n",
      "76\n",
      "77\n",
      "Fizz\n",
      "79\n",
      "Buzz\n",
      "Fizz\n",
      "82\n",
      "83\n",
      "Fizz\n",
      "Buzz\n",
      "86\n",
      "Fizz\n",
      "88\n",
      "89\n",
      "FizzBuzz\n",
      "91\n",
      "92\n",
      "Fizz\n",
      "94\n",
      "Buzz\n",
      "Fizz\n",
      "97\n",
      "98\n",
      "Fizz\n",
      "Buzz\n"
     ]
    }
   ],
   "source": [
    "for i in range(1,101):\n",
    "    if i % 3 == 0 and i % 5== 0:\n",
    "        print(\"FizzBuzz\")  \n",
    "    \n",
    "    elif i % 3 == 0:\n",
    "        print(\"Fizz\")\n",
    "    \n",
    "    elif i % 5 == 0:\n",
    "        print(\"Buzz\")\n",
    "        \n",
    "    else:\n",
    "        print(i)"
   ]
  },
  {
   "cell_type": "markdown",
   "metadata": {},
   "source": [
    "4- Usando a biblioteca \"random\", crie um programa para calcular a média da soma de dois dados de 6 faces (D6) em 10000 lançamentos."
   ]
  },
  {
   "cell_type": "code",
   "execution_count": 3,
   "metadata": {
    "collapsed": true
   },
   "outputs": [],
   "source": [
    "import random\n",
    "\n",
    "def jogadas():\n",
    "    "
   ]
  },
  {
   "cell_type": "code",
   "execution_count": 12,
   "metadata": {},
   "outputs": [
    {
     "name": "stdout",
     "output_type": "stream",
     "text": [
      "[1, 4, 3]\n"
     ]
    }
   ],
   "source": [
    "lista = [1,2,3]\n",
    "lista[1]=4\n",
    "print(lista)"
   ]
  },
  {
   "cell_type": "code",
   "execution_count": null,
   "metadata": {},
   "outputs": [],
   "source": []
  }
 ],
 "metadata": {
  "kernelspec": {
   "display_name": "Python 3",
   "language": "python",
   "name": "python3"
  },
  "language_info": {
   "codemirror_mode": {
    "name": "ipython",
    "version": 3
   },
   "file_extension": ".py",
   "mimetype": "text/x-python",
   "name": "python",
   "nbconvert_exporter": "python",
   "pygments_lexer": "ipython3",
   "version": "3.5.2"
  }
 },
 "nbformat": 4,
 "nbformat_minor": 2
}
