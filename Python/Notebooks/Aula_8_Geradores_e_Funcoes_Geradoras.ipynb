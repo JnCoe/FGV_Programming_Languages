{
 "cells": [
  {
   "cell_type": "markdown",
   "metadata": {},
   "source": [
    "FGV - Escola de Matemática Aplicada\n",
    "==\n",
    "Introdução à Programação com a Linguagem Python\n",
    "--"
   ]
  },
  {
   "cell_type": "markdown",
   "metadata": {},
   "source": [
    "# Geradores: \n",
    "### (Notar a diferença do Python 2.7 para o 3)"
   ]
  },
  {
   "cell_type": "markdown",
   "metadata": {},
   "source": [
    "No geral, geradores parecem funções, mas há uma diferença sintática e uma diferença semântica. Um gerador é uma função iterável que retorna um objeto gerador que pode ser visto como uma função que produz uma seqüência de resultados (usando o loop FOR e sendo usado a chamada next() para chamar cada elemento) em vez de um único objeto. Os valores, nos quais podem ser iterados, são criados usando a instrução yield. A execução do código para quando a última declaração do yield foi atingida, e o valor é retornado. Dessa forma, podemos dizer que geradores são iteráveis, na qual os seus valores só são lidos quando necessário. Dizemos que eles tem lazy evaluation."
   ]
  },
  {
   "cell_type": "code",
   "execution_count": 1,
   "metadata": {},
   "outputs": [
    {
     "data": {
      "text/plain": [
       "<generator object <genexpr> at 0x7f792c11dd58>"
      ]
     },
     "execution_count": 1,
     "metadata": {},
     "output_type": "execute_result"
    }
   ],
   "source": [
    "gen1 = (x**(0.5) for x in range(10) if x%5==0 or x%3==0)\n",
    "gen1"
   ]
  },
  {
   "cell_type": "code",
   "execution_count": 2,
   "metadata": {},
   "outputs": [
    {
     "data": {
      "text/plain": [
       "[0,\n",
       " 3,\n",
       " 5,\n",
       " 6,\n",
       " 9,\n",
       " 10,\n",
       " 12,\n",
       " 15,\n",
       " 18,\n",
       " 20,\n",
       " 21,\n",
       " 24,\n",
       " 25,\n",
       " 27,\n",
       " 30,\n",
       " 33,\n",
       " 35,\n",
       " 36,\n",
       " 39,\n",
       " 40,\n",
       " 42,\n",
       " 45,\n",
       " 48,\n",
       " 50,\n",
       " 51,\n",
       " 54,\n",
       " 55,\n",
       " 57,\n",
       " 60,\n",
       " 63,\n",
       " 65,\n",
       " 66,\n",
       " 69,\n",
       " 70,\n",
       " 72,\n",
       " 75,\n",
       " 78,\n",
       " 80,\n",
       " 81,\n",
       " 84,\n",
       " 85,\n",
       " 87,\n",
       " 90,\n",
       " 93,\n",
       " 95,\n",
       " 96,\n",
       " 99,\n",
       " 100,\n",
       " 102,\n",
       " 105,\n",
       " 108,\n",
       " 110,\n",
       " 111,\n",
       " 114,\n",
       " 115,\n",
       " 117,\n",
       " 120,\n",
       " 123,\n",
       " 125,\n",
       " 126,\n",
       " 129,\n",
       " 130,\n",
       " 132,\n",
       " 135,\n",
       " 138,\n",
       " 140,\n",
       " 141,\n",
       " 144,\n",
       " 145,\n",
       " 147,\n",
       " 150,\n",
       " 153,\n",
       " 155,\n",
       " 156,\n",
       " 159,\n",
       " 160,\n",
       " 162,\n",
       " 165,\n",
       " 168,\n",
       " 170,\n",
       " 171,\n",
       " 174,\n",
       " 175,\n",
       " 177,\n",
       " 180,\n",
       " 183,\n",
       " 185,\n",
       " 186,\n",
       " 189,\n",
       " 190,\n",
       " 192,\n",
       " 195,\n",
       " 198,\n",
       " 200,\n",
       " 201,\n",
       " 204,\n",
       " 205,\n",
       " 207,\n",
       " 210,\n",
       " 213,\n",
       " 215,\n",
       " 216,\n",
       " 219,\n",
       " 220,\n",
       " 222,\n",
       " 225,\n",
       " 228,\n",
       " 230,\n",
       " 231,\n",
       " 234,\n",
       " 235,\n",
       " 237,\n",
       " 240,\n",
       " 243,\n",
       " 245,\n",
       " 246,\n",
       " 249,\n",
       " 250,\n",
       " 252,\n",
       " 255,\n",
       " 258,\n",
       " 260,\n",
       " 261,\n",
       " 264,\n",
       " 265,\n",
       " 267,\n",
       " 270,\n",
       " 273,\n",
       " 275,\n",
       " 276,\n",
       " 279,\n",
       " 280,\n",
       " 282,\n",
       " 285,\n",
       " 288,\n",
       " 290,\n",
       " 291,\n",
       " 294,\n",
       " 295,\n",
       " 297,\n",
       " 300,\n",
       " 303,\n",
       " 305,\n",
       " 306,\n",
       " 309,\n",
       " 310,\n",
       " 312,\n",
       " 315,\n",
       " 318,\n",
       " 320,\n",
       " 321,\n",
       " 324,\n",
       " 325,\n",
       " 327,\n",
       " 330,\n",
       " 333,\n",
       " 335,\n",
       " 336,\n",
       " 339,\n",
       " 340,\n",
       " 342,\n",
       " 345,\n",
       " 348,\n",
       " 350,\n",
       " 351,\n",
       " 354,\n",
       " 355,\n",
       " 357,\n",
       " 360,\n",
       " 363,\n",
       " 365,\n",
       " 366,\n",
       " 369,\n",
       " 370,\n",
       " 372,\n",
       " 375,\n",
       " 378,\n",
       " 380,\n",
       " 381,\n",
       " 384,\n",
       " 385,\n",
       " 387,\n",
       " 390,\n",
       " 393,\n",
       " 395,\n",
       " 396,\n",
       " 399,\n",
       " 400,\n",
       " 402,\n",
       " 405,\n",
       " 408,\n",
       " 410,\n",
       " 411,\n",
       " 414,\n",
       " 415,\n",
       " 417,\n",
       " 420,\n",
       " 423,\n",
       " 425,\n",
       " 426,\n",
       " 429,\n",
       " 430,\n",
       " 432,\n",
       " 435,\n",
       " 438,\n",
       " 440,\n",
       " 441,\n",
       " 444,\n",
       " 445,\n",
       " 447,\n",
       " 450,\n",
       " 453,\n",
       " 455,\n",
       " 456,\n",
       " 459,\n",
       " 460,\n",
       " 462,\n",
       " 465,\n",
       " 468,\n",
       " 470,\n",
       " 471,\n",
       " 474,\n",
       " 475,\n",
       " 477,\n",
       " 480,\n",
       " 483,\n",
       " 485,\n",
       " 486,\n",
       " 489,\n",
       " 490,\n",
       " 492,\n",
       " 495,\n",
       " 498,\n",
       " 500,\n",
       " 501,\n",
       " 504,\n",
       " 505,\n",
       " 507,\n",
       " 510,\n",
       " 513,\n",
       " 515,\n",
       " 516,\n",
       " 519,\n",
       " 520,\n",
       " 522,\n",
       " 525,\n",
       " 528,\n",
       " 530,\n",
       " 531,\n",
       " 534,\n",
       " 535,\n",
       " 537,\n",
       " 540,\n",
       " 543,\n",
       " 545,\n",
       " 546,\n",
       " 549,\n",
       " 550,\n",
       " 552,\n",
       " 555,\n",
       " 558,\n",
       " 560,\n",
       " 561,\n",
       " 564,\n",
       " 565,\n",
       " 567,\n",
       " 570,\n",
       " 573,\n",
       " 575,\n",
       " 576,\n",
       " 579,\n",
       " 580,\n",
       " 582,\n",
       " 585,\n",
       " 588,\n",
       " 590,\n",
       " 591,\n",
       " 594,\n",
       " 595,\n",
       " 597,\n",
       " 600,\n",
       " 603,\n",
       " 605,\n",
       " 606,\n",
       " 609,\n",
       " 610,\n",
       " 612,\n",
       " 615,\n",
       " 618,\n",
       " 620,\n",
       " 621,\n",
       " 624,\n",
       " 625,\n",
       " 627,\n",
       " 630,\n",
       " 633,\n",
       " 635,\n",
       " 636,\n",
       " 639,\n",
       " 640,\n",
       " 642,\n",
       " 645,\n",
       " 648,\n",
       " 650,\n",
       " 651,\n",
       " 654,\n",
       " 655,\n",
       " 657,\n",
       " 660,\n",
       " 663,\n",
       " 665,\n",
       " 666,\n",
       " 669,\n",
       " 670,\n",
       " 672,\n",
       " 675,\n",
       " 678,\n",
       " 680,\n",
       " 681,\n",
       " 684,\n",
       " 685,\n",
       " 687,\n",
       " 690,\n",
       " 693,\n",
       " 695,\n",
       " 696,\n",
       " 699,\n",
       " 700,\n",
       " 702,\n",
       " 705,\n",
       " 708,\n",
       " 710,\n",
       " 711,\n",
       " 714,\n",
       " 715,\n",
       " 717,\n",
       " 720,\n",
       " 723,\n",
       " 725,\n",
       " 726,\n",
       " 729,\n",
       " 730,\n",
       " 732,\n",
       " 735,\n",
       " 738,\n",
       " 740,\n",
       " 741,\n",
       " 744,\n",
       " 745,\n",
       " 747,\n",
       " 750,\n",
       " 753,\n",
       " 755,\n",
       " 756,\n",
       " 759,\n",
       " 760,\n",
       " 762,\n",
       " 765,\n",
       " 768,\n",
       " 770,\n",
       " 771,\n",
       " 774,\n",
       " 775,\n",
       " 777,\n",
       " 780,\n",
       " 783,\n",
       " 785,\n",
       " 786,\n",
       " 789,\n",
       " 790,\n",
       " 792,\n",
       " 795,\n",
       " 798,\n",
       " 800,\n",
       " 801,\n",
       " 804,\n",
       " 805,\n",
       " 807,\n",
       " 810,\n",
       " 813,\n",
       " 815,\n",
       " 816,\n",
       " 819,\n",
       " 820,\n",
       " 822,\n",
       " 825,\n",
       " 828,\n",
       " 830,\n",
       " 831,\n",
       " 834,\n",
       " 835,\n",
       " 837,\n",
       " 840,\n",
       " 843,\n",
       " 845,\n",
       " 846,\n",
       " 849,\n",
       " 850,\n",
       " 852,\n",
       " 855,\n",
       " 858,\n",
       " 860,\n",
       " 861,\n",
       " 864,\n",
       " 865,\n",
       " 867,\n",
       " 870,\n",
       " 873,\n",
       " 875,\n",
       " 876,\n",
       " 879,\n",
       " 880,\n",
       " 882,\n",
       " 885,\n",
       " 888,\n",
       " 890,\n",
       " 891,\n",
       " 894,\n",
       " 895,\n",
       " 897,\n",
       " 900,\n",
       " 903,\n",
       " 905,\n",
       " 906,\n",
       " 909,\n",
       " 910,\n",
       " 912,\n",
       " 915,\n",
       " 918,\n",
       " 920,\n",
       " 921,\n",
       " 924,\n",
       " 925,\n",
       " 927,\n",
       " 930,\n",
       " 933,\n",
       " 935,\n",
       " 936,\n",
       " 939,\n",
       " 940,\n",
       " 942,\n",
       " 945,\n",
       " 948,\n",
       " 950,\n",
       " 951,\n",
       " 954,\n",
       " 955,\n",
       " 957,\n",
       " 960,\n",
       " 963,\n",
       " 965,\n",
       " 966,\n",
       " 969,\n",
       " 970,\n",
       " 972,\n",
       " 975,\n",
       " 978,\n",
       " 980,\n",
       " 981,\n",
       " 984,\n",
       " 985,\n",
       " 987,\n",
       " 990,\n",
       " 993,\n",
       " 995,\n",
       " 996,\n",
       " 999,\n",
       " 1000,\n",
       " 1002,\n",
       " 1005,\n",
       " 1008,\n",
       " 1010,\n",
       " 1011,\n",
       " 1014,\n",
       " 1015,\n",
       " 1017,\n",
       " 1020,\n",
       " 1023,\n",
       " 1025,\n",
       " 1026,\n",
       " 1029,\n",
       " 1030,\n",
       " 1032,\n",
       " 1035,\n",
       " 1038,\n",
       " 1040,\n",
       " 1041,\n",
       " 1044,\n",
       " 1045,\n",
       " 1047,\n",
       " 1050,\n",
       " 1053,\n",
       " 1055,\n",
       " 1056,\n",
       " 1059,\n",
       " 1060,\n",
       " 1062,\n",
       " 1065,\n",
       " 1068,\n",
       " 1070,\n",
       " 1071,\n",
       " 1074,\n",
       " 1075,\n",
       " 1077,\n",
       " 1080,\n",
       " 1083,\n",
       " 1085,\n",
       " 1086,\n",
       " 1089,\n",
       " 1090,\n",
       " 1092,\n",
       " 1095,\n",
       " 1098,\n",
       " 1100,\n",
       " 1101,\n",
       " 1104,\n",
       " 1105,\n",
       " 1107,\n",
       " 1110,\n",
       " 1113,\n",
       " 1115,\n",
       " 1116,\n",
       " 1119,\n",
       " 1120,\n",
       " 1122,\n",
       " 1125,\n",
       " 1128,\n",
       " 1130,\n",
       " 1131,\n",
       " 1134,\n",
       " 1135,\n",
       " 1137,\n",
       " 1140,\n",
       " 1143,\n",
       " 1145,\n",
       " 1146,\n",
       " 1149,\n",
       " 1150,\n",
       " 1152,\n",
       " 1155,\n",
       " 1158,\n",
       " 1160,\n",
       " 1161,\n",
       " 1164,\n",
       " 1165,\n",
       " 1167,\n",
       " 1170,\n",
       " 1173,\n",
       " 1175,\n",
       " 1176,\n",
       " 1179,\n",
       " 1180,\n",
       " 1182,\n",
       " 1185,\n",
       " 1188,\n",
       " 1190,\n",
       " 1191,\n",
       " 1194,\n",
       " 1195,\n",
       " 1197,\n",
       " 1200,\n",
       " 1203,\n",
       " 1205,\n",
       " 1206,\n",
       " 1209,\n",
       " 1210,\n",
       " 1212,\n",
       " 1215,\n",
       " 1218,\n",
       " 1220,\n",
       " 1221,\n",
       " 1224,\n",
       " 1225,\n",
       " 1227,\n",
       " 1230,\n",
       " 1233,\n",
       " 1235,\n",
       " 1236,\n",
       " 1239,\n",
       " 1240,\n",
       " 1242,\n",
       " 1245,\n",
       " 1248,\n",
       " 1250,\n",
       " 1251,\n",
       " 1254,\n",
       " 1255,\n",
       " 1257,\n",
       " 1260,\n",
       " 1263,\n",
       " 1265,\n",
       " 1266,\n",
       " 1269,\n",
       " 1270,\n",
       " 1272,\n",
       " 1275,\n",
       " 1278,\n",
       " 1280,\n",
       " 1281,\n",
       " 1284,\n",
       " 1285,\n",
       " 1287,\n",
       " 1290,\n",
       " 1293,\n",
       " 1295,\n",
       " 1296,\n",
       " 1299,\n",
       " 1300,\n",
       " 1302,\n",
       " 1305,\n",
       " 1308,\n",
       " 1310,\n",
       " 1311,\n",
       " 1314,\n",
       " 1315,\n",
       " 1317,\n",
       " 1320,\n",
       " 1323,\n",
       " 1325,\n",
       " 1326,\n",
       " 1329,\n",
       " 1330,\n",
       " 1332,\n",
       " 1335,\n",
       " 1338,\n",
       " 1340,\n",
       " 1341,\n",
       " 1344,\n",
       " 1345,\n",
       " 1347,\n",
       " 1350,\n",
       " 1353,\n",
       " 1355,\n",
       " 1356,\n",
       " 1359,\n",
       " 1360,\n",
       " 1362,\n",
       " 1365,\n",
       " 1368,\n",
       " 1370,\n",
       " 1371,\n",
       " 1374,\n",
       " 1375,\n",
       " 1377,\n",
       " 1380,\n",
       " 1383,\n",
       " 1385,\n",
       " 1386,\n",
       " 1389,\n",
       " 1390,\n",
       " 1392,\n",
       " 1395,\n",
       " 1398,\n",
       " 1400,\n",
       " 1401,\n",
       " 1404,\n",
       " 1405,\n",
       " 1407,\n",
       " 1410,\n",
       " 1413,\n",
       " 1415,\n",
       " 1416,\n",
       " 1419,\n",
       " 1420,\n",
       " 1422,\n",
       " 1425,\n",
       " 1428,\n",
       " 1430,\n",
       " 1431,\n",
       " 1434,\n",
       " 1435,\n",
       " 1437,\n",
       " 1440,\n",
       " 1443,\n",
       " 1445,\n",
       " 1446,\n",
       " 1449,\n",
       " 1450,\n",
       " 1452,\n",
       " 1455,\n",
       " 1458,\n",
       " 1460,\n",
       " 1461,\n",
       " 1464,\n",
       " 1465,\n",
       " 1467,\n",
       " 1470,\n",
       " 1473,\n",
       " 1475,\n",
       " 1476,\n",
       " 1479,\n",
       " 1480,\n",
       " 1482,\n",
       " 1485,\n",
       " 1488,\n",
       " 1490,\n",
       " 1491,\n",
       " 1494,\n",
       " 1495,\n",
       " 1497,\n",
       " 1500,\n",
       " 1503,\n",
       " 1505,\n",
       " 1506,\n",
       " 1509,\n",
       " 1510,\n",
       " 1512,\n",
       " 1515,\n",
       " 1518,\n",
       " 1520,\n",
       " 1521,\n",
       " 1524,\n",
       " 1525,\n",
       " 1527,\n",
       " 1530,\n",
       " 1533,\n",
       " 1535,\n",
       " 1536,\n",
       " 1539,\n",
       " 1540,\n",
       " 1542,\n",
       " 1545,\n",
       " 1548,\n",
       " 1550,\n",
       " 1551,\n",
       " 1554,\n",
       " 1555,\n",
       " 1557,\n",
       " 1560,\n",
       " 1563,\n",
       " 1565,\n",
       " 1566,\n",
       " 1569,\n",
       " 1570,\n",
       " 1572,\n",
       " 1575,\n",
       " 1578,\n",
       " 1580,\n",
       " 1581,\n",
       " 1584,\n",
       " 1585,\n",
       " 1587,\n",
       " 1590,\n",
       " 1593,\n",
       " 1595,\n",
       " 1596,\n",
       " 1599,\n",
       " 1600,\n",
       " 1602,\n",
       " 1605,\n",
       " 1608,\n",
       " 1610,\n",
       " 1611,\n",
       " 1614,\n",
       " 1615,\n",
       " 1617,\n",
       " 1620,\n",
       " 1623,\n",
       " 1625,\n",
       " 1626,\n",
       " 1629,\n",
       " 1630,\n",
       " 1632,\n",
       " 1635,\n",
       " 1638,\n",
       " 1640,\n",
       " 1641,\n",
       " 1644,\n",
       " 1645,\n",
       " 1647,\n",
       " 1650,\n",
       " 1653,\n",
       " 1655,\n",
       " 1656,\n",
       " 1659,\n",
       " 1660,\n",
       " 1662,\n",
       " 1665,\n",
       " 1668,\n",
       " 1670,\n",
       " 1671,\n",
       " 1674,\n",
       " 1675,\n",
       " 1677,\n",
       " 1680,\n",
       " 1683,\n",
       " 1685,\n",
       " 1686,\n",
       " 1689,\n",
       " 1690,\n",
       " 1692,\n",
       " 1695,\n",
       " 1698,\n",
       " 1700,\n",
       " 1701,\n",
       " 1704,\n",
       " 1705,\n",
       " 1707,\n",
       " 1710,\n",
       " 1713,\n",
       " 1715,\n",
       " 1716,\n",
       " 1719,\n",
       " 1720,\n",
       " 1722,\n",
       " 1725,\n",
       " 1728,\n",
       " 1730,\n",
       " 1731,\n",
       " 1734,\n",
       " 1735,\n",
       " 1737,\n",
       " 1740,\n",
       " 1743,\n",
       " 1745,\n",
       " 1746,\n",
       " 1749,\n",
       " 1750,\n",
       " 1752,\n",
       " 1755,\n",
       " 1758,\n",
       " 1760,\n",
       " 1761,\n",
       " 1764,\n",
       " 1765,\n",
       " 1767,\n",
       " 1770,\n",
       " 1773,\n",
       " 1775,\n",
       " 1776,\n",
       " 1779,\n",
       " 1780,\n",
       " 1782,\n",
       " 1785,\n",
       " 1788,\n",
       " 1790,\n",
       " 1791,\n",
       " 1794,\n",
       " 1795,\n",
       " 1797,\n",
       " 1800,\n",
       " 1803,\n",
       " 1805,\n",
       " 1806,\n",
       " 1809,\n",
       " 1810,\n",
       " 1812,\n",
       " 1815,\n",
       " 1818,\n",
       " 1820,\n",
       " 1821,\n",
       " 1824,\n",
       " 1825,\n",
       " 1827,\n",
       " 1830,\n",
       " 1833,\n",
       " 1835,\n",
       " 1836,\n",
       " 1839,\n",
       " 1840,\n",
       " 1842,\n",
       " 1845,\n",
       " 1848,\n",
       " 1850,\n",
       " 1851,\n",
       " 1854,\n",
       " 1855,\n",
       " 1857,\n",
       " 1860,\n",
       " 1863,\n",
       " 1865,\n",
       " 1866,\n",
       " 1869,\n",
       " 1870,\n",
       " 1872,\n",
       " 1875,\n",
       " 1878,\n",
       " 1880,\n",
       " 1881,\n",
       " 1884,\n",
       " 1885,\n",
       " 1887,\n",
       " 1890,\n",
       " 1893,\n",
       " 1895,\n",
       " 1896,\n",
       " 1899,\n",
       " 1900,\n",
       " 1902,\n",
       " 1905,\n",
       " 1908,\n",
       " 1910,\n",
       " 1911,\n",
       " 1914,\n",
       " 1915,\n",
       " 1917,\n",
       " 1920,\n",
       " 1923,\n",
       " 1925,\n",
       " 1926,\n",
       " 1929,\n",
       " 1930,\n",
       " 1932,\n",
       " 1935,\n",
       " 1938,\n",
       " 1940,\n",
       " 1941,\n",
       " 1944,\n",
       " 1945,\n",
       " 1947,\n",
       " 1950,\n",
       " 1953,\n",
       " 1955,\n",
       " 1956,\n",
       " 1959,\n",
       " 1960,\n",
       " 1962,\n",
       " 1965,\n",
       " 1968,\n",
       " 1970,\n",
       " 1971,\n",
       " 1974,\n",
       " 1975,\n",
       " 1977,\n",
       " 1980,\n",
       " 1983,\n",
       " 1985,\n",
       " 1986,\n",
       " 1989,\n",
       " 1990,\n",
       " 1992,\n",
       " 1995,\n",
       " 1998,\n",
       " 2000,\n",
       " 2001,\n",
       " 2004,\n",
       " 2005,\n",
       " 2007,\n",
       " 2010,\n",
       " 2013,\n",
       " 2015,\n",
       " 2016,\n",
       " 2019,\n",
       " 2020,\n",
       " 2022,\n",
       " 2025,\n",
       " 2028,\n",
       " 2030,\n",
       " 2031,\n",
       " 2034,\n",
       " 2035,\n",
       " 2037,\n",
       " 2040,\n",
       " 2043,\n",
       " 2045,\n",
       " 2046,\n",
       " 2049,\n",
       " 2050,\n",
       " 2052,\n",
       " 2055,\n",
       " 2058,\n",
       " 2060,\n",
       " 2061,\n",
       " 2064,\n",
       " 2065,\n",
       " 2067,\n",
       " 2070,\n",
       " 2073,\n",
       " 2075,\n",
       " 2076,\n",
       " 2079,\n",
       " 2080,\n",
       " 2082,\n",
       " 2085,\n",
       " 2088,\n",
       " 2090,\n",
       " 2091,\n",
       " 2094,\n",
       " 2095,\n",
       " 2097,\n",
       " 2100,\n",
       " 2103,\n",
       " 2105,\n",
       " 2106,\n",
       " 2109,\n",
       " 2110,\n",
       " 2112,\n",
       " 2115,\n",
       " 2118,\n",
       " 2120,\n",
       " 2121,\n",
       " 2124,\n",
       " 2125,\n",
       " 2127,\n",
       " 2130,\n",
       " 2133,\n",
       " 2135,\n",
       " 2136,\n",
       " 2139,\n",
       " 2140,\n",
       " ...]"
      ]
     },
     "execution_count": 2,
     "metadata": {},
     "output_type": "execute_result"
    }
   ],
   "source": [
    "gem = (x for x in range(100000) if x%5==0 or x%3==0)\n",
    "list(gem)"
   ]
  },
  {
   "cell_type": "code",
   "execution_count": 2,
   "metadata": {},
   "outputs": [
    {
     "data": {
      "text/plain": [
       "[0.0, 1.7320508075688772, 2.23606797749979, 2.449489742783178, 3.0]"
      ]
     },
     "execution_count": 2,
     "metadata": {},
     "output_type": "execute_result"
    }
   ],
   "source": [
    "list(gen1)"
   ]
  },
  {
   "cell_type": "code",
   "execution_count": 3,
   "metadata": {},
   "outputs": [
    {
     "data": {
      "text/plain": [
       "generator"
      ]
     },
     "execution_count": 3,
     "metadata": {},
     "output_type": "execute_result"
    }
   ],
   "source": [
    "gen2 = (x**x for x in range(99999999999999))\n",
    "type(gen2)"
   ]
  },
  {
   "cell_type": "code",
   "execution_count": 4,
   "metadata": {},
   "outputs": [
    {
     "data": {
      "text/plain": [
       "1"
      ]
     },
     "execution_count": 4,
     "metadata": {},
     "output_type": "execute_result"
    }
   ],
   "source": [
    "next(gen2)"
   ]
  },
  {
   "cell_type": "code",
   "execution_count": 5,
   "metadata": {},
   "outputs": [],
   "source": [
    "gen3 = (x**2 for x in range(10))"
   ]
  },
  {
   "cell_type": "code",
   "execution_count": 6,
   "metadata": {},
   "outputs": [
    {
     "data": {
      "text/plain": [
       "[0, 1, 4, 9, 16, 25, 36, 49, 64, 81]"
      ]
     },
     "execution_count": 6,
     "metadata": {},
     "output_type": "execute_result"
    }
   ],
   "source": [
    "list(gen3)"
   ]
  },
  {
   "cell_type": "code",
   "execution_count": 7,
   "metadata": {},
   "outputs": [
    {
     "ename": "StopIteration",
     "evalue": "",
     "output_type": "error",
     "traceback": [
      "\u001b[0;31m---------------------------------------------------------------------------\u001b[0m",
      "\u001b[0;31mStopIteration\u001b[0m                             Traceback (most recent call last)",
      "\u001b[0;32m<ipython-input-7-2df79d030080>\u001b[0m in \u001b[0;36m<module>\u001b[0;34m()\u001b[0m\n\u001b[0;32m----> 1\u001b[0;31m \u001b[0mnext\u001b[0m\u001b[0;34m(\u001b[0m\u001b[0mgen3\u001b[0m\u001b[0;34m)\u001b[0m\u001b[0;34m\u001b[0m\u001b[0m\n\u001b[0m",
      "\u001b[0;31mStopIteration\u001b[0m: "
     ]
    }
   ],
   "source": [
    "next(gen3)"
   ]
  },
  {
   "cell_type": "code",
   "execution_count": 8,
   "metadata": {},
   "outputs": [
    {
     "data": {
      "text/plain": [
       "range"
      ]
     },
     "execution_count": 8,
     "metadata": {},
     "output_type": "execute_result"
    }
   ],
   "source": [
    "r = range(10)\n",
    "type(r)"
   ]
  },
  {
   "cell_type": "code",
   "execution_count": 9,
   "metadata": {},
   "outputs": [
    {
     "data": {
      "text/plain": [
       "zip"
      ]
     },
     "execution_count": 9,
     "metadata": {},
     "output_type": "execute_result"
    }
   ],
   "source": [
    "gen4 = zip([1,2,3],[4,5,6],[6,7,8])\n",
    "type(gen4)"
   ]
  },
  {
   "cell_type": "code",
   "execution_count": 10,
   "metadata": {},
   "outputs": [
    {
     "data": {
      "text/plain": [
       "[(1, 4, 6), (2, 5, 7), (3, 6, 8)]"
      ]
     },
     "execution_count": 10,
     "metadata": {},
     "output_type": "execute_result"
    }
   ],
   "source": [
    "list(gen4)"
   ]
  },
  {
   "cell_type": "code",
   "execution_count": 11,
   "metadata": {},
   "outputs": [],
   "source": [
    "gerador = (letra for letra in \"abcd\")"
   ]
  },
  {
   "cell_type": "code",
   "execution_count": 12,
   "metadata": {},
   "outputs": [
    {
     "data": {
      "text/plain": [
       "'a'"
      ]
     },
     "execution_count": 12,
     "metadata": {},
     "output_type": "execute_result"
    }
   ],
   "source": [
    "next(gerador)"
   ]
  },
  {
   "cell_type": "code",
   "execution_count": 13,
   "metadata": {},
   "outputs": [
    {
     "data": {
      "text/plain": [
       "'b'"
      ]
     },
     "execution_count": 13,
     "metadata": {},
     "output_type": "execute_result"
    }
   ],
   "source": [
    "next(gerador)"
   ]
  },
  {
   "cell_type": "code",
   "execution_count": 14,
   "metadata": {},
   "outputs": [
    {
     "data": {
      "text/plain": [
       "'c'"
      ]
     },
     "execution_count": 14,
     "metadata": {},
     "output_type": "execute_result"
    }
   ],
   "source": [
    "next(gerador)"
   ]
  },
  {
   "cell_type": "code",
   "execution_count": 15,
   "metadata": {},
   "outputs": [
    {
     "data": {
      "text/plain": [
       "'d'"
      ]
     },
     "execution_count": 15,
     "metadata": {},
     "output_type": "execute_result"
    }
   ],
   "source": [
    "next(gerador)"
   ]
  },
  {
   "cell_type": "code",
   "execution_count": 16,
   "metadata": {},
   "outputs": [
    {
     "ename": "StopIteration",
     "evalue": "",
     "output_type": "error",
     "traceback": [
      "\u001b[0;31m---------------------------------------------------------------------------\u001b[0m",
      "\u001b[0;31mStopIteration\u001b[0m                             Traceback (most recent call last)",
      "\u001b[0;32m<ipython-input-16-86eb459eae4d>\u001b[0m in \u001b[0;36m<module>\u001b[0;34m()\u001b[0m\n\u001b[0;32m----> 1\u001b[0;31m \u001b[0mnext\u001b[0m\u001b[0;34m(\u001b[0m\u001b[0mgerador\u001b[0m\u001b[0;34m)\u001b[0m \u001b[0;31m#Quando a iteração acaba, recebemos StopIteration.\u001b[0m\u001b[0;34m\u001b[0m\u001b[0m\n\u001b[0m",
      "\u001b[0;31mStopIteration\u001b[0m: "
     ]
    }
   ],
   "source": [
    "next(gerador) #Quando a iteração acaba, recebemos StopIteration."
   ]
  },
  {
   "cell_type": "markdown",
   "metadata": {},
   "source": [
    "### Funções geradoras"
   ]
  },
  {
   "cell_type": "markdown",
   "metadata": {},
   "source": [
    "#### Yield:\n",
    "Funciona como um return, retornando um gerador\n",
    "\n",
    "#### Next():\n",
    "Retorna os valores do gerador um por vez até chegar no fim. Chegando no fim retorna: StopIteration\n",
    "\n",
    "Vejamos os exemplos:"
   ]
  },
  {
   "cell_type": "code",
   "execution_count": 17,
   "metadata": {},
   "outputs": [],
   "source": [
    "def gera_quadrados(x):\n",
    "    while True:\n",
    "        yield(x**2)\n",
    "        x+=1"
   ]
  },
  {
   "cell_type": "code",
   "execution_count": 18,
   "metadata": {},
   "outputs": [],
   "source": [
    "gen5 = gera_quadrados(4)\n",
    "gen6 = gera_quadrados(4)"
   ]
  },
  {
   "cell_type": "code",
   "execution_count": 19,
   "metadata": {},
   "outputs": [
    {
     "data": {
      "text/plain": [
       "16"
      ]
     },
     "execution_count": 19,
     "metadata": {},
     "output_type": "execute_result"
    }
   ],
   "source": [
    "next(gen5)"
   ]
  },
  {
   "cell_type": "code",
   "execution_count": 20,
   "metadata": {},
   "outputs": [
    {
     "data": {
      "text/plain": [
       "25"
      ]
     },
     "execution_count": 20,
     "metadata": {},
     "output_type": "execute_result"
    }
   ],
   "source": [
    "next(gen5)"
   ]
  },
  {
   "cell_type": "code",
   "execution_count": 21,
   "metadata": {},
   "outputs": [
    {
     "data": {
      "text/plain": [
       "36"
      ]
     },
     "execution_count": 21,
     "metadata": {},
     "output_type": "execute_result"
    }
   ],
   "source": [
    "next(gen5)"
   ]
  },
  {
   "cell_type": "code",
   "execution_count": 22,
   "metadata": {},
   "outputs": [
    {
     "data": {
      "text/plain": [
       "49"
      ]
     },
     "execution_count": 22,
     "metadata": {},
     "output_type": "execute_result"
    }
   ],
   "source": [
    "next(gen5)"
   ]
  },
  {
   "cell_type": "code",
   "execution_count": 23,
   "metadata": {},
   "outputs": [
    {
     "data": {
      "text/plain": [
       "16"
      ]
     },
     "execution_count": 23,
     "metadata": {},
     "output_type": "execute_result"
    }
   ],
   "source": [
    "next(gen6)"
   ]
  },
  {
   "cell_type": "code",
   "execution_count": 24,
   "metadata": {},
   "outputs": [
    {
     "data": {
      "text/plain": [
       "function"
      ]
     },
     "execution_count": 24,
     "metadata": {},
     "output_type": "execute_result"
    }
   ],
   "source": [
    "type(gera_quadrados)"
   ]
  },
  {
   "cell_type": "code",
   "execution_count": 25,
   "metadata": {},
   "outputs": [
    {
     "data": {
      "text/plain": [
       "generator"
      ]
     },
     "execution_count": 25,
     "metadata": {},
     "output_type": "execute_result"
    }
   ],
   "source": [
    "type(gen5)"
   ]
  },
  {
   "cell_type": "markdown",
   "metadata": {},
   "source": [
    "Observe que:"
   ]
  },
  {
   "cell_type": "code",
   "execution_count": 26,
   "metadata": {},
   "outputs": [],
   "source": [
    "ger = (x + 2 for x in range(5))"
   ]
  },
  {
   "cell_type": "code",
   "execution_count": 27,
   "metadata": {},
   "outputs": [
    {
     "data": {
      "text/plain": [
       "2"
      ]
     },
     "execution_count": 27,
     "metadata": {},
     "output_type": "execute_result"
    }
   ],
   "source": [
    "next(ger)"
   ]
  },
  {
   "cell_type": "code",
   "execution_count": 28,
   "metadata": {},
   "outputs": [
    {
     "data": {
      "text/plain": [
       "3"
      ]
     },
     "execution_count": 28,
     "metadata": {},
     "output_type": "execute_result"
    }
   ],
   "source": [
    "next(ger)"
   ]
  },
  {
   "cell_type": "code",
   "execution_count": 29,
   "metadata": {},
   "outputs": [
    {
     "data": {
      "text/plain": [
       "4"
      ]
     },
     "execution_count": 29,
     "metadata": {},
     "output_type": "execute_result"
    }
   ],
   "source": [
    "next(ger)"
   ]
  },
  {
   "cell_type": "code",
   "execution_count": 30,
   "metadata": {},
   "outputs": [
    {
     "data": {
      "text/plain": [
       "5"
      ]
     },
     "execution_count": 30,
     "metadata": {},
     "output_type": "execute_result"
    }
   ],
   "source": [
    "next(ger)"
   ]
  },
  {
   "cell_type": "code",
   "execution_count": 31,
   "metadata": {},
   "outputs": [
    {
     "data": {
      "text/plain": [
       "6"
      ]
     },
     "execution_count": 31,
     "metadata": {},
     "output_type": "execute_result"
    }
   ],
   "source": [
    "next(ger)"
   ]
  },
  {
   "cell_type": "code",
   "execution_count": 32,
   "metadata": {},
   "outputs": [
    {
     "ename": "StopIteration",
     "evalue": "",
     "output_type": "error",
     "traceback": [
      "\u001b[0;31m---------------------------------------------------------------------------\u001b[0m",
      "\u001b[0;31mStopIteration\u001b[0m                             Traceback (most recent call last)",
      "\u001b[0;32m<ipython-input-32-fea75e829596>\u001b[0m in \u001b[0;36m<module>\u001b[0;34m()\u001b[0m\n\u001b[0;32m----> 1\u001b[0;31m \u001b[0mnext\u001b[0m\u001b[0;34m(\u001b[0m\u001b[0mger\u001b[0m\u001b[0;34m)\u001b[0m\u001b[0;34m\u001b[0m\u001b[0m\n\u001b[0m",
      "\u001b[0;31mStopIteration\u001b[0m: "
     ]
    }
   ],
   "source": [
    "next(ger)"
   ]
  },
  {
   "cell_type": "code",
   "execution_count": 33,
   "metadata": {},
   "outputs": [
    {
     "data": {
      "text/plain": [
       "generator"
      ]
     },
     "execution_count": 33,
     "metadata": {},
     "output_type": "execute_result"
    }
   ],
   "source": [
    "type(ger)"
   ]
  },
  {
   "cell_type": "markdown",
   "metadata": {},
   "source": [
    "retorna, a cada next(), os mesmos valores e na mesma sequência de:"
   ]
  },
  {
   "cell_type": "code",
   "execution_count": 34,
   "metadata": {},
   "outputs": [
    {
     "name": "stdout",
     "output_type": "stream",
     "text": [
      "2\n",
      "3\n",
      "4\n",
      "5\n",
      "6\n"
     ]
    }
   ],
   "source": [
    "for elemento in range(5):\n",
    "    print (elemento + 2)"
   ]
  },
  {
   "cell_type": "markdown",
   "metadata": {},
   "source": [
    "## Exercícios com funções geradoras"
   ]
  },
  {
   "cell_type": "code",
   "execution_count": 35,
   "metadata": {},
   "outputs": [],
   "source": [
    "import time\n",
    "def funcao_que_conta_tempo():\n",
    "    agora = time.time()\n",
    "    while True:\n",
    "        yield(time.time() - agora)"
   ]
  },
  {
   "cell_type": "code",
   "execution_count": 36,
   "metadata": {},
   "outputs": [],
   "source": [
    "alifer = funcao_que_conta_tempo()"
   ]
  },
  {
   "cell_type": "code",
   "execution_count": 37,
   "metadata": {},
   "outputs": [],
   "source": [
    "carla = funcao_que_conta_tempo()"
   ]
  },
  {
   "cell_type": "code",
   "execution_count": 38,
   "metadata": {},
   "outputs": [
    {
     "data": {
      "text/plain": [
       "2.956390380859375e-05"
      ]
     },
     "execution_count": 38,
     "metadata": {},
     "output_type": "execute_result"
    }
   ],
   "source": [
    "next(carla)"
   ]
  },
  {
   "cell_type": "code",
   "execution_count": 39,
   "metadata": {},
   "outputs": [
    {
     "data": {
      "text/plain": [
       "5.0067901611328125e-06"
      ]
     },
     "execution_count": 39,
     "metadata": {},
     "output_type": "execute_result"
    }
   ],
   "source": [
    "next(alifer)"
   ]
  },
  {
   "cell_type": "code",
   "execution_count": 40,
   "metadata": {},
   "outputs": [
    {
     "data": {
      "text/plain": [
       "-0.4321272373199463"
      ]
     },
     "execution_count": 40,
     "metadata": {},
     "output_type": "execute_result"
    }
   ],
   "source": [
    "next(alifer) - next(carla)"
   ]
  },
  {
   "cell_type": "code",
   "execution_count": 41,
   "metadata": {},
   "outputs": [
    {
     "data": {
      "text/plain": [
       "-0.43215227127075195"
      ]
     },
     "execution_count": 41,
     "metadata": {},
     "output_type": "execute_result"
    }
   ],
   "source": [
    "next(alifer) - next(carla)"
   ]
  },
  {
   "cell_type": "code",
   "execution_count": 42,
   "metadata": {},
   "outputs": [
    {
     "data": {
      "text/plain": [
       "3.2957160472869873"
      ]
     },
     "execution_count": 42,
     "metadata": {},
     "output_type": "execute_result"
    }
   ],
   "source": [
    "next(carla)"
   ]
  },
  {
   "cell_type": "code",
   "execution_count": 43,
   "metadata": {},
   "outputs": [
    {
     "data": {
      "text/plain": [
       "3.3917412757873535"
      ]
     },
     "execution_count": 43,
     "metadata": {},
     "output_type": "execute_result"
    }
   ],
   "source": [
    "next(alifer)"
   ]
  },
  {
   "cell_type": "markdown",
   "metadata": {},
   "source": [
    "#### Jogo dos cavalinhos (sem usar classes)"
   ]
  },
  {
   "cell_type": "code",
   "execution_count": 44,
   "metadata": {},
   "outputs": [],
   "source": [
    "import random\n",
    "\n",
    "def cavalo():\n",
    "    posicao = 0\n",
    "    while True:\n",
    "        passo = random.randint(1,5)\n",
    "        posicao += passo\n",
    "        yield posicao        "
   ]
  },
  {
   "cell_type": "code",
   "execution_count": 51,
   "metadata": {},
   "outputs": [
    {
     "name": "stdout",
     "output_type": "stream",
     "text": [
      "********************************************************************\n",
      "***********************************************************************\n",
      "**********************************************************************\n",
      "*********************************************************************\n",
      "[68, 71, 70, 69]\n"
     ]
    }
   ],
   "source": [
    "from IPython.display import clear_output\n",
    "\n",
    "malhado = cavalo()\n",
    "alazao = cavalo()\n",
    "pedepano = cavalo()\n",
    "pepelegal = cavalo()\n",
    "cavalos = [malhado, alazao, pedepano, pepelegal]\n",
    "\n",
    "while True:\n",
    "    posicoes = []\n",
    "    clear_output()\n",
    "    for animal in cavalos:\n",
    "        posicoes.append(next(animal))\n",
    "    for posicao in posicoes:\n",
    "        print('*'* posicao)\n",
    "    if max(posicoes) > 70:\n",
    "        break\n",
    "    time.sleep(0.5)\n",
    "print(posicoes)"
   ]
  },
  {
   "cell_type": "code",
   "execution_count": null,
   "metadata": {},
   "outputs": [],
   "source": []
  }
 ],
 "metadata": {
  "kernelspec": {
   "display_name": "Python 3",
   "language": "python",
   "name": "python3"
  },
  "language_info": {
   "codemirror_mode": {
    "name": "ipython",
    "version": 3
   },
   "file_extension": ".py",
   "mimetype": "text/x-python",
   "name": "python",
   "nbconvert_exporter": "python",
   "pygments_lexer": "ipython3",
   "version": "3.5.2"
  }
 },
 "nbformat": 4,
 "nbformat_minor": 2
}
